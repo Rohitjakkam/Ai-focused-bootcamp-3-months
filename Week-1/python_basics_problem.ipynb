{
  "nbformat": 4,
  "nbformat_minor": 0,
  "metadata": {
    "colab": {
      "provenance": []
    },
    "kernelspec": {
      "name": "python3",
      "display_name": "Python 3"
    },
    "language_info": {
      "name": "python"
    }
  },
  "cells": [
    {
      "cell_type": "code",
      "execution_count": null,
      "metadata": {
        "id": "mnXU3zr2oojW"
      },
      "outputs": [],
      "source": [
        "# Solve these problems:\n",
        "# a. Sum of Natural Numbers ( 0 to 10 )\n",
        "# b. Count digits example -> x= 3459 , output= 4\n",
        "# c. Check palindrome - > x= 989 , output = yes\n",
        "# d. Factorial of a number -> x= 5! output = 120"
      ]
    },
    {
      "cell_type": "code",
      "source": [
        "# Sum of Natural Numbers ( 0 to 10 )\n",
        "sum = 0\n",
        "for i in range(11):\n",
        "  sum = sum + i\n",
        "print(sum)"
      ],
      "metadata": {
        "colab": {
          "base_uri": "https://localhost:8080/"
        },
        "id": "oO0oe0doowgb",
        "outputId": "d5ebd1eb-852a-434a-d4fd-144a8de09dc7"
      },
      "execution_count": null,
      "outputs": [
        {
          "output_type": "stream",
          "name": "stdout",
          "text": [
            "55\n"
          ]
        }
      ]
    },
    {
      "cell_type": "code",
      "source": [
        "# Count digits example -> x= 3459 , output= 4\n",
        "def count_digits(x):\n",
        "  count = 0\n",
        "  while x != 0:\n",
        "    x //= 10\n",
        "    count += 1\n",
        "  return count\n",
        "\n",
        "x = 3459\n",
        "print(count_digits(x))"
      ],
      "metadata": {
        "id": "m38LnOALpN7D"
      },
      "execution_count": null,
      "outputs": []
    },
    {
      "cell_type": "code",
      "source": [
        "def is_palindrome(x):\n",
        "  original_num = x\n",
        "  reversed_num = 0\n",
        "  while x > 0:\n",
        "    # Extract the last digit\n",
        "    last_digit = x % 10\n",
        "    # Reverse the number\n",
        "    reversed_num = reversed_num * 10 + last_digit\n",
        "    # Remove the last digit from the original number\n",
        "    x //= 10\n",
        "\n",
        "  if original_num == reversed_num:\n",
        "    return \"yes\"\n",
        "  else:\n",
        "    return \"no\"\n",
        "\n",
        "x = 989\n",
        "print(is_palindrome(x))"
      ],
      "metadata": {
        "colab": {
          "base_uri": "https://localhost:8080/"
        },
        "id": "B8835jipryYS",
        "outputId": "ff86bcc9-3d83-42a0-dd56-eb55bba823c0"
      },
      "execution_count": null,
      "outputs": [
        {
          "output_type": "stream",
          "name": "stdout",
          "text": [
            "yes\n"
          ]
        }
      ]
    },
    {
      "cell_type": "code",
      "source": [
        "def factorial(x):\n",
        "  if x == 0:\n",
        "    return 1\n",
        "  else:\n",
        "    return x * factorial(x-1)\n",
        "\n",
        "x = 5\n",
        "print(factorial(x))"
      ],
      "metadata": {
        "colab": {
          "base_uri": "https://localhost:8080/"
        },
        "id": "JRnLgx01s-zI",
        "outputId": "f9d8c27d-1160-40c8-81a4-76a89b9f22c8"
      },
      "execution_count": null,
      "outputs": [
        {
          "output_type": "stream",
          "name": "stdout",
          "text": [
            "120\n"
          ]
        }
      ]
    },
    {
      "cell_type": "code",
      "source": [],
      "metadata": {
        "id": "3I51sYnGs-tH"
      },
      "execution_count": null,
      "outputs": []
    },
    {
      "cell_type": "code",
      "source": [],
      "metadata": {
        "id": "4Jdk2buTs-qY"
      },
      "execution_count": null,
      "outputs": []
    },
    {
      "cell_type": "code",
      "source": [],
      "metadata": {
        "id": "bQtGWg84s-ns"
      },
      "execution_count": null,
      "outputs": []
    }
  ]
}